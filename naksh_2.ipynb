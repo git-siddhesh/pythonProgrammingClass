{
 "cells": [
  {
   "cell_type": "code",
   "execution_count": 19,
   "id": "115197fb",
   "metadata": {},
   "outputs": [
    {
     "data": {
      "text/plain": [
       "3"
      ]
     },
     "execution_count": 19,
     "metadata": {},
     "output_type": "execute_result"
    }
   ],
   "source": [
    "# To implement list.pop()\n",
    "\n",
    "lst = [1,2,3,4,5]\n",
    "lst.pop(2)"
   ]
  },
  {
   "cell_type": "code",
   "execution_count": 4,
   "id": "71f12ca5",
   "metadata": {},
   "outputs": [
    {
     "data": {
      "text/plain": [
       "[1, 2, 4, 5]"
      ]
     },
     "execution_count": 4,
     "metadata": {},
     "output_type": "execute_result"
    }
   ],
   "source": [
    "lst"
   ]
  },
  {
   "cell_type": "code",
   "execution_count": 17,
   "id": "4f632e81",
   "metadata": {},
   "outputs": [
    {
     "name": "stdout",
     "output_type": "stream",
     "text": [
      "enter the index value2\n",
      "[0, 1, 3, 4, 5]\n",
      "[0, 1, 2, 3, 4]\n"
     ]
    }
   ],
   "source": [
    "def pop(lst,index= -1):\n",
    "    if index != -1:\n",
    "        return lst[ : index] + lst[index+1 : ]\n",
    "    else:\n",
    "        return lst[:index]\n",
    "        \n",
    "\n",
    "lst = [0,1,2,3,4,5]\n",
    "index = int(input(\"enter the index value\"))\n",
    "# Testcase 1\n",
    "print(pop(lst,index))\n",
    "\n",
    "#Testcase 2\n",
    "lst = [0,1,2,3,4,5]\n",
    "print(pop(lst))"
   ]
  },
  {
   "cell_type": "code",
   "execution_count": 12,
   "id": "a596f52e",
   "metadata": {},
   "outputs": [
    {
     "name": "stdout",
     "output_type": "stream",
     "text": [
      "1\n"
     ]
    }
   ],
   "source": [
    "def sid(a):\n",
    "    print(a)\n",
    "    \n",
    "sid(1)"
   ]
  },
  {
   "cell_type": "code",
   "execution_count": 15,
   "id": "2beccf16",
   "metadata": {},
   "outputs": [
    {
     "name": "stdout",
     "output_type": "stream",
     "text": [
      "Hello\tHii\n"
     ]
    }
   ],
   "source": [
    "print(\"Hello\", end = \"\\t\")  \n",
    "print(\"Hii\")"
   ]
  },
  {
   "cell_type": "code",
   "execution_count": null,
   "id": "af0beae3",
   "metadata": {},
   "outputs": [],
   "source": []
  },
  {
   "cell_type": "code",
   "execution_count": null,
   "id": "53783467",
   "metadata": {},
   "outputs": [],
   "source": []
  },
  {
   "cell_type": "code",
   "execution_count": 24,
   "id": "6fca612b",
   "metadata": {},
   "outputs": [
    {
     "data": {
      "text/plain": [
       "[11, 12, 13, 14, 15]"
      ]
     },
     "execution_count": 24,
     "metadata": {},
     "output_type": "execute_result"
    }
   ],
   "source": [
    "# Implement map() to calculate squares of all the numbers in the list\n",
    "\n",
    "# l = [1,2,3,4,5,6]\n",
    "# output L = [1,4,9,16,25,36]\n",
    "\n",
    "def increaseBy10(char):\n",
    "    num = int(char)\n",
    "    num = num + 10\n",
    "    return num\n",
    "    \n",
    "\n",
    "def square(num):\n",
    "    return num**2\n",
    "\n",
    "l = ['1','2','3','4','5']\n",
    "m = map(increaseBy10,l)\n",
    "l2 = list(m)\n",
    "l2"
   ]
  },
  {
   "cell_type": "code",
   "execution_count": 31,
   "id": "aaa57346",
   "metadata": {},
   "outputs": [
    {
     "data": {
      "text/plain": [
       "['s', 'w', 'k', 'm']"
      ]
     },
     "execution_count": 31,
     "metadata": {},
     "output_type": "execute_result"
    }
   ],
   "source": [
    "l = [\"s$\",\"w$\", \"k$\", \"m$\"]\n",
    "\n",
    "\n",
    "def removeDollor(string):\n",
    "    string = string.rstrip(\"$\")\n",
    "    return string\n",
    "\n",
    "l2 = list(map(removeDollor,l))\n",
    "l2"
   ]
  },
  {
   "cell_type": "code",
   "execution_count": 26,
   "id": "f5961b67",
   "metadata": {},
   "outputs": [],
   "source": []
  },
  {
   "cell_type": "code",
   "execution_count": 27,
   "id": "81137803",
   "metadata": {},
   "outputs": [
    {
     "data": {
      "text/plain": [
       "'sigj'"
      ]
     },
     "execution_count": 27,
     "metadata": {},
     "output_type": "execute_result"
    }
   ],
   "source": []
  },
  {
   "cell_type": "code",
   "execution_count": 32,
   "id": "108b7d61",
   "metadata": {},
   "outputs": [],
   "source": [
    "d = { \"Name\": \"Siddhesh\",\n",
    "     \"id\":    123,\n",
    "     \"Marks\": [87,57,98],\n",
    "     3:       \"fjhgw\"\n",
    "    }"
   ]
  },
  {
   "cell_type": "code",
   "execution_count": 33,
   "id": "e3f0b37c",
   "metadata": {},
   "outputs": [
    {
     "data": {
      "text/plain": [
       "{'Name': 'Siddhesh', 'id': 123, 'Marks': [87, 57, 98], 3: 'fjhgw'}"
      ]
     },
     "execution_count": 33,
     "metadata": {},
     "output_type": "execute_result"
    }
   ],
   "source": [
    "d"
   ]
  },
  {
   "cell_type": "code",
   "execution_count": 34,
   "id": "68331cc4",
   "metadata": {},
   "outputs": [
    {
     "data": {
      "text/plain": [
       "'Siddhesh'"
      ]
     },
     "execution_count": 34,
     "metadata": {},
     "output_type": "execute_result"
    }
   ],
   "source": [
    "d[\"Name\"]"
   ]
  },
  {
   "cell_type": "code",
   "execution_count": 35,
   "id": "1360819f",
   "metadata": {},
   "outputs": [
    {
     "data": {
      "text/plain": [
       "[87, 57, 98]"
      ]
     },
     "execution_count": 35,
     "metadata": {},
     "output_type": "execute_result"
    }
   ],
   "source": [
    "d[\"Marks\"]"
   ]
  },
  {
   "cell_type": "code",
   "execution_count": 36,
   "id": "4a772e0f",
   "metadata": {},
   "outputs": [
    {
     "data": {
      "text/plain": [
       "'fjhgw'"
      ]
     },
     "execution_count": 36,
     "metadata": {},
     "output_type": "execute_result"
    }
   ],
   "source": [
    "d[3]"
   ]
  },
  {
   "cell_type": "code",
   "execution_count": 37,
   "id": "bc027f49",
   "metadata": {},
   "outputs": [],
   "source": [
    "students = {\"KAvin\":95,\n",
    "            \"Shaurya\": 90,\n",
    "           \"Prerit\": 86,\n",
    "           \"Naksh\": 96,\n",
    "           \"Sid\": 78\n",
    "        }"
   ]
  },
  {
   "cell_type": "code",
   "execution_count": 41,
   "id": "0efdae79",
   "metadata": {},
   "outputs": [
    {
     "data": {
      "text/plain": [
       "{'KAvin': 95, 'Shaurya': 90, 'Prerit': 86, 'Naksh': 96, 'Sid': 78}"
      ]
     },
     "execution_count": 41,
     "metadata": {},
     "output_type": "execute_result"
    }
   ],
   "source": [
    "students"
   ]
  },
  {
   "cell_type": "code",
   "execution_count": 42,
   "id": "9f13be9b",
   "metadata": {},
   "outputs": [],
   "source": [
    "students[\"Purvesh\"] = 55"
   ]
  },
  {
   "cell_type": "code",
   "execution_count": 43,
   "id": "13eba6d2",
   "metadata": {},
   "outputs": [
    {
     "data": {
      "text/plain": [
       "{'KAvin': 95,\n",
       " 'Shaurya': 90,\n",
       " 'Prerit': 86,\n",
       " 'Naksh': 96,\n",
       " 'Sid': 78,\n",
       " 'Purvesh': 55}"
      ]
     },
     "execution_count": 43,
     "metadata": {},
     "output_type": "execute_result"
    }
   ],
   "source": [
    "students"
   ]
  },
  {
   "cell_type": "code",
   "execution_count": 44,
   "id": "404dc869",
   "metadata": {},
   "outputs": [],
   "source": [
    "students[\"Naksh\"] = 80"
   ]
  },
  {
   "cell_type": "code",
   "execution_count": 45,
   "id": "e6b01858",
   "metadata": {},
   "outputs": [
    {
     "data": {
      "text/plain": [
       "{'KAvin': 95,\n",
       " 'Shaurya': 90,\n",
       " 'Prerit': 86,\n",
       " 'Naksh': 80,\n",
       " 'Sid': 78,\n",
       " 'Purvesh': 55}"
      ]
     },
     "execution_count": 45,
     "metadata": {},
     "output_type": "execute_result"
    }
   ],
   "source": [
    "students"
   ]
  },
  {
   "cell_type": "code",
   "execution_count": 46,
   "id": "3553f481",
   "metadata": {},
   "outputs": [],
   "source": [
    "string = \"Hello\""
   ]
  },
  {
   "cell_type": "code",
   "execution_count": 47,
   "id": "58ea1bcc",
   "metadata": {},
   "outputs": [
    {
     "ename": "TypeError",
     "evalue": "'str' object does not support item assignment",
     "output_type": "error",
     "traceback": [
      "\u001b[1;31m---------------------------------------------------------------------------\u001b[0m",
      "\u001b[1;31mTypeError\u001b[0m                                 Traceback (most recent call last)",
      "\u001b[1;32m<ipython-input-47-52a38bc462e2>\u001b[0m in \u001b[0;36m<module>\u001b[1;34m\u001b[0m\n\u001b[1;32m----> 1\u001b[1;33m \u001b[0mstring\u001b[0m\u001b[1;33m[\u001b[0m\u001b[1;36m2\u001b[0m\u001b[1;33m]\u001b[0m\u001b[1;33m=\u001b[0m  \u001b[1;34m\"p\"\u001b[0m\u001b[1;33m\u001b[0m\u001b[1;33m\u001b[0m\u001b[0m\n\u001b[0m",
      "\u001b[1;31mTypeError\u001b[0m: 'str' object does not support item assignment"
     ]
    }
   ],
   "source": [
    "string[2]=  \"p\""
   ]
  },
  {
   "cell_type": "code",
   "execution_count": 48,
   "id": "abad5279",
   "metadata": {},
   "outputs": [
    {
     "data": {
      "text/plain": [
       "1"
      ]
     },
     "execution_count": 48,
     "metadata": {},
     "output_type": "execute_result"
    }
   ],
   "source": [
    "t = (1,2,3)\n",
    "t[0]"
   ]
  },
  {
   "cell_type": "code",
   "execution_count": 49,
   "id": "d173c898",
   "metadata": {},
   "outputs": [
    {
     "ename": "TypeError",
     "evalue": "'int' object is not subscriptable",
     "output_type": "error",
     "traceback": [
      "\u001b[1;31m---------------------------------------------------------------------------\u001b[0m",
      "\u001b[1;31mTypeError\u001b[0m                                 Traceback (most recent call last)",
      "\u001b[1;32m<ipython-input-49-90c58dad8ed1>\u001b[0m in \u001b[0;36m<module>\u001b[1;34m\u001b[0m\n\u001b[0;32m      1\u001b[0m \u001b[0ma\u001b[0m \u001b[1;33m=\u001b[0m \u001b[1;36m456536\u001b[0m\u001b[1;33m\u001b[0m\u001b[1;33m\u001b[0m\u001b[0m\n\u001b[1;32m----> 2\u001b[1;33m \u001b[0ma\u001b[0m\u001b[1;33m[\u001b[0m\u001b[1;36m3\u001b[0m\u001b[1;33m]\u001b[0m\u001b[1;33m\u001b[0m\u001b[1;33m\u001b[0m\u001b[0m\n\u001b[0m",
      "\u001b[1;31mTypeError\u001b[0m: 'int' object is not subscriptable"
     ]
    }
   ],
   "source": [
    "a = 456536\n",
    "a[3]"
   ]
  },
  {
   "cell_type": "code",
   "execution_count": 50,
   "id": "a900c5f9",
   "metadata": {},
   "outputs": [
    {
     "data": {
      "text/plain": [
       "dict_keys(['KAvin', 'Shaurya', 'Prerit', 'Naksh', 'Sid', 'Purvesh'])"
      ]
     },
     "execution_count": 50,
     "metadata": {},
     "output_type": "execute_result"
    }
   ],
   "source": [
    "students.keys()"
   ]
  },
  {
   "cell_type": "code",
   "execution_count": 51,
   "id": "c30f59a6",
   "metadata": {},
   "outputs": [
    {
     "data": {
      "text/plain": [
       "dict_values([95, 90, 86, 80, 78, 55])"
      ]
     },
     "execution_count": 51,
     "metadata": {},
     "output_type": "execute_result"
    }
   ],
   "source": [
    "students.values()"
   ]
  },
  {
   "cell_type": "code",
   "execution_count": 52,
   "id": "8d02e40b",
   "metadata": {},
   "outputs": [],
   "source": [
    "del students[\"KAvin\"]"
   ]
  },
  {
   "cell_type": "code",
   "execution_count": 53,
   "id": "ce1d4673",
   "metadata": {},
   "outputs": [
    {
     "data": {
      "text/plain": [
       "{'Shaurya': 90, 'Prerit': 86, 'Naksh': 80, 'Sid': 78, 'Purvesh': 55}"
      ]
     },
     "execution_count": 53,
     "metadata": {},
     "output_type": "execute_result"
    }
   ],
   "source": [
    "students"
   ]
  },
  {
   "cell_type": "code",
   "execution_count": 54,
   "id": "3bb10bfc",
   "metadata": {},
   "outputs": [
    {
     "ename": "KeyError",
     "evalue": "'arpit'",
     "output_type": "error",
     "traceback": [
      "\u001b[1;31m---------------------------------------------------------------------------\u001b[0m",
      "\u001b[1;31mKeyError\u001b[0m                                  Traceback (most recent call last)",
      "\u001b[1;32m<ipython-input-54-123e89b60006>\u001b[0m in \u001b[0;36m<module>\u001b[1;34m\u001b[0m\n\u001b[1;32m----> 1\u001b[1;33m \u001b[0mstudents\u001b[0m\u001b[1;33m[\u001b[0m\u001b[1;34m\"arpit\"\u001b[0m\u001b[1;33m]\u001b[0m\u001b[1;33m\u001b[0m\u001b[1;33m\u001b[0m\u001b[0m\n\u001b[0m",
      "\u001b[1;31mKeyError\u001b[0m: 'arpit'"
     ]
    }
   ],
   "source": [
    "students[\"arpit\"]"
   ]
  },
  {
   "cell_type": "code",
   "execution_count": 59,
   "id": "5896f01c",
   "metadata": {},
   "outputs": [
    {
     "name": "stdout",
     "output_type": "stream",
     "text": [
      "80\n"
     ]
    }
   ],
   "source": [
    "print(students.get(\"Naksh\",\"Not Exists\"))"
   ]
  },
  {
   "cell_type": "code",
   "execution_count": null,
   "id": "1b84a8cf",
   "metadata": {},
   "outputs": [],
   "source": []
  }
 ],
 "metadata": {
  "kernelspec": {
   "display_name": "Python 3",
   "language": "python",
   "name": "python3"
  },
  "language_info": {
   "codemirror_mode": {
    "name": "ipython",
    "version": 3
   },
   "file_extension": ".py",
   "mimetype": "text/x-python",
   "name": "python",
   "nbconvert_exporter": "python",
   "pygments_lexer": "ipython3",
   "version": "3.8.9"
  }
 },
 "nbformat": 4,
 "nbformat_minor": 5
}
