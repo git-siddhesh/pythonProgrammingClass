{
  "nbformat": 4,
  "nbformat_minor": 0,
  "metadata": {
    "colab": {
      "name": "25_05.ipynb",
      "provenance": [],
      "collapsed_sections": [],
      "include_colab_link": true
    },
    "kernelspec": {
      "name": "python3",
      "display_name": "Python 3"
    },
    "language_info": {
      "name": "python"
    }
  },
  "cells": [
    {
      "cell_type": "markdown",
      "metadata": {
        "id": "view-in-github",
        "colab_type": "text"
      },
      "source": [
        "<a href=\"https://colab.research.google.com/github/git-siddhesh/pythonProgrammingClass/blob/master/25_05.ipynb\" target=\"_parent\"><img src=\"https://colab.research.google.com/assets/colab-badge.svg\" alt=\"Open In Colab\"/></a>"
      ]
    },
    {
      "cell_type": "code",
      "metadata": {
        "colab": {
          "base_uri": "https://localhost:8080/"
        },
        "id": "iYMoDwCNZLUj",
        "outputId": "9460f1dd-d361-4e54-d95d-d0dc598db9b2"
      },
      "source": [
        "print(\"Hello naksh\")"
      ],
      "execution_count": null,
      "outputs": [
        {
          "output_type": "stream",
          "text": [
            "Hello naksh\n"
          ],
          "name": "stdout"
        }
      ]
    },
    {
      "cell_type": "code",
      "metadata": {
        "id": "1TxY14TnZ3mq"
      },
      "source": [
        "list_of_tuples = [(\"Name\",\"Siddhesh\"),(\"Address\",\"Jaipur\")]"
      ],
      "execution_count": null,
      "outputs": []
    },
    {
      "cell_type": "code",
      "metadata": {
        "id": "8D8HNZw8antO"
      },
      "source": [
        "# (key,value)"
      ],
      "execution_count": null,
      "outputs": []
    },
    {
      "cell_type": "code",
      "metadata": {
        "id": "XZ6-Bpk2aYNp"
      },
      "source": [
        "d = dict(list_of_tuples)"
      ],
      "execution_count": null,
      "outputs": []
    },
    {
      "cell_type": "code",
      "metadata": {
        "colab": {
          "base_uri": "https://localhost:8080/"
        },
        "id": "Hm8VKKc7afkr",
        "outputId": "8fbc395e-f7e0-4f26-99ac-c826069f1959"
      },
      "source": [
        "print(d)"
      ],
      "execution_count": null,
      "outputs": [
        {
          "output_type": "stream",
          "text": [
            "{'Name': 'Siddhesh', 'Address': 'Jaipur'}\n"
          ],
          "name": "stdout"
        }
      ]
    },
    {
      "cell_type": "code",
      "metadata": {
        "id": "0-W6cFhJbM7y"
      },
      "source": [
        "marks = [(\"Naksh\",96),(\"Ajay\",89),(\"Siddhesh\",90)]"
      ],
      "execution_count": null,
      "outputs": []
    },
    {
      "cell_type": "code",
      "metadata": {
        "colab": {
          "base_uri": "https://localhost:8080/"
        },
        "id": "FXFh9oElbhSv",
        "outputId": "c3a02428-474c-4f87-be74-87a9e388e72c"
      },
      "source": [
        "marks_dict = dict(marks)\n",
        "print(marks_dict)"
      ],
      "execution_count": null,
      "outputs": [
        {
          "output_type": "stream",
          "text": [
            "{'Naksh': 96, 'Ajay': 89, 'Siddhesh': 90}\n"
          ],
          "name": "stdout"
        }
      ]
    },
    {
      "cell_type": "code",
      "metadata": {
        "id": "KfU4hktmbpBD"
      },
      "source": [
        "student"
      ],
      "execution_count": null,
      "outputs": []
    },
    {
      "cell_type": "code",
      "metadata": {
        "id": "GbZImTYSao9m"
      },
      "source": [
        ""
      ],
      "execution_count": null,
      "outputs": []
    },
    {
      "cell_type": "markdown",
      "metadata": {
        "id": "n18qF9jkeIui"
      },
      "source": [
        "## Implementing the nested dictionaries"
      ]
    },
    {
      "cell_type": "markdown",
      "metadata": {
        "id": "_87BXGqLeHoS"
      },
      "source": [
        ""
      ]
    },
    {
      "cell_type": "code",
      "metadata": {
        "id": "oOqPhA5Kag1i"
      },
      "source": [
        "studnet = {\n",
        "    \"naksh\" : {\n",
        "        \"address\" : \"jaipur\",\n",
        "        \"mobile\" : [1231231231,5674574571],\n",
        "        \"total_marks\" : 96\n",
        "    },\n",
        "    \"koibhi\" : {\n",
        "        \"address\" : \" mansarovar\",\n",
        "        \"mobile\" : [6868474712],\n",
        "        \"total_marks\" : 89,\n",
        "        \"scholarship\": True\n",
        "    }\n",
        "}"
      ],
      "execution_count": 23,
      "outputs": []
    },
    {
      "cell_type": "code",
      "metadata": {
        "colab": {
          "base_uri": "https://localhost:8080/"
        },
        "id": "umm8HcVxe8W2",
        "outputId": "934f4653-ae69-426c-bbef-38a3d508c88a"
      },
      "source": [
        "studnet[\"koibhi\"][\"mobile\"]"
      ],
      "execution_count": 21,
      "outputs": [
        {
          "output_type": "execute_result",
          "data": {
            "text/plain": [
              "[6868474712]"
            ]
          },
          "metadata": {
            "tags": []
          },
          "execution_count": 21
        }
      ]
    },
    {
      "cell_type": "code",
      "metadata": {
        "colab": {
          "base_uri": "https://localhost:8080/"
        },
        "id": "kz4vUyDpfJB7",
        "outputId": "f24f4da8-d71b-4bd5-de5b-f0dcb862d39d"
      },
      "source": [
        "studnet[\"naksh\"][\"mobile\"][1]"
      ],
      "execution_count": 22,
      "outputs": [
        {
          "output_type": "execute_result",
          "data": {
            "text/plain": [
              "5674574571"
            ]
          },
          "metadata": {
            "tags": []
          },
          "execution_count": 22
        }
      ]
    },
    {
      "cell_type": "code",
      "metadata": {
        "id": "D4xGajoWfSaf"
      },
      "source": [
        ""
      ],
      "execution_count": null,
      "outputs": []
    },
    {
      "cell_type": "markdown",
      "metadata": {
        "id": "8JAuP72pf3TZ"
      },
      "source": [
        "## Creating a dictionary using two list: 1. keyList 2. ValueList"
      ]
    },
    {
      "cell_type": "code",
      "metadata": {
        "colab": {
          "base_uri": "https://localhost:8080/"
        },
        "id": "nOKNCJ2BfDms",
        "outputId": "a644cfc6-b473-4b5f-c28a-fc8d7187d656"
      },
      "source": [
        "keyList = [\"naksh\",\"koibhi\",\"Shaurya\",\"dong\"]\n",
        "valueList = [89,97,58,46]\n",
        "\n",
        "z = zip(keyList,valueList)\n",
        "z1 = z\n",
        "d = dict(z)\n",
        "print(d)\n",
        "print(list(d))"
      ],
      "execution_count": 32,
      "outputs": [
        {
          "output_type": "stream",
          "text": [
            "{'naksh': 89, 'koibhi': 97, 'Shaurya': 58, 'dong': 46}\n",
            "['naksh', 'koibhi', 'Shaurya', 'dong']\n"
          ],
          "name": "stdout"
        }
      ]
    },
    {
      "cell_type": "code",
      "metadata": {
        "id": "f3iuyEeshhVy"
      },
      "source": [
        "d = dict.fromkeys(['name','age'])"
      ],
      "execution_count": 33,
      "outputs": []
    },
    {
      "cell_type": "code",
      "metadata": {
        "colab": {
          "base_uri": "https://localhost:8080/"
        },
        "id": "yxbYHbavh0cJ",
        "outputId": "6003d658-4a10-4ddb-ff5a-3e53a3c02963"
      },
      "source": [
        "d"
      ],
      "execution_count": 34,
      "outputs": [
        {
          "output_type": "execute_result",
          "data": {
            "text/plain": [
              "{'age': None, 'name': None}"
            ]
          },
          "metadata": {
            "tags": []
          },
          "execution_count": 34
        }
      ]
    },
    {
      "cell_type": "code",
      "metadata": {
        "colab": {
          "base_uri": "https://localhost:8080/"
        },
        "id": "A06fw393h09R",
        "outputId": "99f70439-b7ba-4fa7-b785-2e7aa2cbe1c6"
      },
      "source": [
        "print(\"age\" in d)"
      ],
      "execution_count": 36,
      "outputs": [
        {
          "output_type": "stream",
          "text": [
            "True\n"
          ],
          "name": "stdout"
        }
      ]
    },
    {
      "cell_type": "code",
      "metadata": {
        "id": "H2lbb1MqiNQ3"
      },
      "source": [
        "d1 = d.copy()"
      ],
      "execution_count": 37,
      "outputs": []
    },
    {
      "cell_type": "code",
      "metadata": {
        "colab": {
          "base_uri": "https://localhost:8080/"
        },
        "id": "9ZWWBlwCiXx5",
        "outputId": "a2e3bd91-2c29-4354-8429-27ff37941eab"
      },
      "source": [
        "d1"
      ],
      "execution_count": 38,
      "outputs": [
        {
          "output_type": "execute_result",
          "data": {
            "text/plain": [
              "{'age': None, 'name': None}"
            ]
          },
          "metadata": {
            "tags": []
          },
          "execution_count": 38
        }
      ]
    },
    {
      "cell_type": "code",
      "metadata": {
        "id": "jlzps1D1iYp3"
      },
      "source": [
        "dict1 = {\n",
        "    \"name\": \"siddhesh\",\n",
        "    \"age\" : 22\n",
        "}\n",
        "\n",
        "dict2 = {\n",
        "    \"address\" : \"jaipur\",\n",
        "    \"mobile\" : 9893945962\n",
        "}"
      ],
      "execution_count": 39,
      "outputs": []
    },
    {
      "cell_type": "code",
      "metadata": {
        "id": "dzctN6QNirAF"
      },
      "source": [
        "dict1.update(dict2)"
      ],
      "execution_count": 40,
      "outputs": []
    },
    {
      "cell_type": "code",
      "metadata": {
        "colab": {
          "base_uri": "https://localhost:8080/"
        },
        "id": "IEG2nEb1iwDP",
        "outputId": "de1e6d90-22e8-403b-b7bf-b6c750bf03bc"
      },
      "source": [
        "dict1"
      ],
      "execution_count": 41,
      "outputs": [
        {
          "output_type": "execute_result",
          "data": {
            "text/plain": [
              "{'address': 'jaipur', 'age': 22, 'mobile': 9893945962, 'name': 'siddhesh'}"
            ]
          },
          "metadata": {
            "tags": []
          },
          "execution_count": 41
        }
      ]
    },
    {
      "cell_type": "code",
      "metadata": {
        "colab": {
          "base_uri": "https://localhost:8080/"
        },
        "id": "_utmnLgbixyM",
        "outputId": "0ce192b2-e9b9-40f7-ceeb-66bfde29ef41"
      },
      "source": [
        "dict2"
      ],
      "execution_count": 42,
      "outputs": [
        {
          "output_type": "execute_result",
          "data": {
            "text/plain": [
              "{'address': 'jaipur', 'mobile': 9893945962}"
            ]
          },
          "metadata": {
            "tags": []
          },
          "execution_count": 42
        }
      ]
    },
    {
      "cell_type": "code",
      "metadata": {
        "colab": {
          "base_uri": "https://localhost:8080/"
        },
        "id": "CE_FkXgEi3Gk",
        "outputId": "2cadca28-be79-4c58-fa5e-384e381e8655"
      },
      "source": [
        "dict2"
      ],
      "execution_count": 43,
      "outputs": [
        {
          "output_type": "execute_result",
          "data": {
            "text/plain": [
              "{'address': 'jaipur', 'mobile': 9893945962}"
            ]
          },
          "metadata": {
            "tags": []
          },
          "execution_count": 43
        }
      ]
    },
    {
      "cell_type": "code",
      "metadata": {
        "id": "_udyLu9Njpq5"
      },
      "source": [
        "dict2[\"newKey\"] = \"newValue\""
      ],
      "execution_count": 44,
      "outputs": []
    },
    {
      "cell_type": "code",
      "metadata": {
        "colab": {
          "base_uri": "https://localhost:8080/"
        },
        "id": "z5pp4UIHjvns",
        "outputId": "8514024c-0a33-4bdd-ec04-939afc6ddad8"
      },
      "source": [
        "dict2"
      ],
      "execution_count": 45,
      "outputs": [
        {
          "output_type": "execute_result",
          "data": {
            "text/plain": [
              "{'address': 'jaipur', 'mobile': 9893945962, 'newKey': 'newValue'}"
            ]
          },
          "metadata": {
            "tags": []
          },
          "execution_count": 45
        }
      ]
    },
    {
      "cell_type": "code",
      "metadata": {
        "id": "NrA96jkyjwk5"
      },
      "source": [
        ""
      ],
      "execution_count": null,
      "outputs": []
    },
    {
      "cell_type": "markdown",
      "metadata": {
        "id": "r22rgbEsjDVU"
      },
      "source": [
        "## Assign 1 : To implement update function in dictionary"
      ]
    },
    {
      "cell_type": "code",
      "metadata": {
        "id": "X7xP1xjZnGLL"
      },
      "source": [
        ""
      ],
      "execution_count": null,
      "outputs": []
    },
    {
      "cell_type": "code",
      "metadata": {
        "id": "3eRkI4SijHFr"
      },
      "source": [
        "def update(dict1,dict2):\n",
        "  #  ----for, add,\n",
        "  return dict1"
      ],
      "execution_count": null,
      "outputs": []
    },
    {
      "cell_type": "code",
      "metadata": {
        "id": "4tpnrXneiLRk"
      },
      "source": [
        "dict1 = {\n",
        "    \"Name\": \" siddhesh\",\n",
        "    \"College\": \"SKIT\"\n",
        "}\n",
        "\n",
        "dict2 = {\n",
        "    \"Branch\" : \"IT\",\n",
        "    \"Section\": \"B\"\n",
        "}\n",
        "\n",
        "print(update(dict1,dict2))"
      ],
      "execution_count": null,
      "outputs": []
    },
    {
      "cell_type": "code",
      "metadata": {
        "id": "5NpmThUXhIV1"
      },
      "source": [
        ""
      ],
      "execution_count": null,
      "outputs": []
    },
    {
      "cell_type": "code",
      "metadata": {
        "id": "FLOzRTkKg9bm"
      },
      "source": [
        ""
      ],
      "execution_count": null,
      "outputs": []
    },
    {
      "cell_type": "code",
      "metadata": {
        "colab": {
          "base_uri": "https://localhost:8080/"
        },
        "id": "mCGauTDCg7QQ",
        "outputId": "6c180e2f-3ebd-41dc-ca7c-b3d589545dd3"
      },
      "source": [
        "for key in dict2:\n",
        "  print(key,dict2[key])"
      ],
      "execution_count": 46,
      "outputs": [
        {
          "output_type": "stream",
          "text": [
            "address jaipur\n",
            "mobile 9893945962\n",
            "newKey newValue\n"
          ],
          "name": "stdout"
        }
      ]
    },
    {
      "cell_type": "code",
      "metadata": {
        "colab": {
          "base_uri": "https://localhost:8080/"
        },
        "id": "2veBrwFLkIxW",
        "outputId": "6691933d-831f-4503-f036-8983234759bd"
      },
      "source": [
        "D = dict()   # create an empty dictionary\n",
        "D.setdefault(\"key1\",\"Value1\")    \\# setting default value\n",
        "print(D)"
      ],
      "execution_count": 49,
      "outputs": [
        {
          "output_type": "stream",
          "text": [
            "{'key1': 'Value1'}\n"
          ],
          "name": "stdout"
        }
      ]
    },
    {
      "cell_type": "code",
      "metadata": {
        "colab": {
          "base_uri": "https://localhost:8080/"
        },
        "id": "j1aHlpcMlut1",
        "outputId": "f7b19391-11dc-428d-c58c-0322c1ba46fc"
      },
      "source": [
        "D2 = dict()\n",
        "D2[\"Key2\"] = \"value2\"\n",
        "D2"
      ],
      "execution_count": 50,
      "outputs": [
        {
          "output_type": "execute_result",
          "data": {
            "text/plain": [
              "{'Key2': 'value2'}"
            ]
          },
          "metadata": {
            "tags": []
          },
          "execution_count": 50
        }
      ]
    },
    {
      "cell_type": "markdown",
      "metadata": {
        "id": "blAEdYG0m0Rv"
      },
      "source": [
        "### Assign 2 : implement a dictionary of key as a number and value as its square using for loop\n",
        "\n",
        "```\n",
        "# This is formatted as code\n",
        "```\n",
        "\n"
      ]
    },
    {
      "cell_type": "code",
      "metadata": {
        "id": "UCZxHwfbnC2C"
      },
      "source": [
        ""
      ],
      "execution_count": null,
      "outputs": []
    },
    {
      "cell_type": "code",
      "metadata": {
        "colab": {
          "base_uri": "https://localhost:8080/"
        },
        "id": "7Ix8U2OwmCLM",
        "outputId": "e5a9a21e-ec7e-4686-e85e-26d67faf403f"
      },
      "source": [
        "\n",
        "\n",
        "\n",
        "square_dict = {num : num**2 for num in range(10)}\n",
        "print(square_dict)"
      ],
      "execution_count": 51,
      "outputs": [
        {
          "output_type": "stream",
          "text": [
            "{0: 0, 1: 1, 2: 4, 3: 9, 4: 16, 5: 25, 6: 36, 7: 49, 8: 64, 9: 81}\n"
          ],
          "name": "stdout"
        }
      ]
    },
    {
      "cell_type": "code",
      "metadata": {
        "id": "QXuVpg-rmk-h"
      },
      "source": [
        ""
      ],
      "execution_count": null,
      "outputs": []
    }
  ]
}